{
 "cells": [
  {
   "cell_type": "markdown",
   "metadata": {},
   "source": [
    "# 2019_07_26 lesson notes\n",
    "\n",
    "The scripts accepted by A-Level examiners and hence will be used for future purposes."
   ]
  },
  {
   "cell_type": "code",
   "execution_count": 6,
   "metadata": {},
   "outputs": [
    {
     "name": "stdout",
     "output_type": "stream",
     "text": [
      "Hello World\n"
     ]
    }
   ],
   "source": [
    "print(\"Hello World\")"
   ]
  },
  {
   "cell_type": "code",
   "execution_count": 7,
   "metadata": {},
   "outputs": [],
   "source": [
    "# Assume i have named Task 1_SunXinyu_<index number>.ipynb"
   ]
  },
  {
   "cell_type": "code",
   "execution_count": 2,
   "metadata": {},
   "outputs": [
    {
     "name": "stdout",
     "output_type": "stream",
     "text": [
      "Please input a single letter:\n",
      "a\n",
      "a\n"
     ]
    }
   ],
   "source": [
    "# Task 1.1\n",
    "while True:\n",
    "    letter_input = input(\"Please input a single letter:\\n\")\n",
    "    ord_letter = ord(letter_input)\n",
    "    if (ord(\"a\") <= ord_letter and ord_letter <= ord(\"z\")) or (ord(\"A\") <= ord_letter and ord_letter <= ord(\"Z\")):\n",
    "        print(letter_input)\n",
    "        break\n",
    "    else:\n",
    "        print(\"Invalid input. Please enter again\")"
   ]
  },
  {
   "cell_type": "code",
   "execution_count": 8,
   "metadata": {},
   "outputs": [
    {
     "name": "stdout",
     "output_type": "stream",
     "text": [
      "Please input a single letter:\n",
      "B\n",
      "Please enter an integer base number within (10, 15) interval\n",
      "11\n",
      "Letter B\n",
      "Denary 66\n",
      "Number Base 11 60\n"
     ]
    }
   ],
   "source": [
    "# Task 1.2\n",
    "letter_input = input(\"Please input a single letter:\\n\")\n",
    "while True:\n",
    "    base_input = int(input(\"Please enter an integer base number within (10, 15) interval\\n\"))\n",
    "    if base_input > 10 and base_input < 15:\n",
    "        break\n",
    "print(\"Letter \" + letter_input)\n",
    "print(\"Denary \" + str(ord(letter_input)))\n",
    "def d2k(d, k):\n",
    "    result = \"\"\n",
    "    mapping = \"0123456789ABCDEFGHIJKLMNOPQRSTUVWXYZ\"\n",
    "    while d>0:\n",
    "        digit = mapping[d%k]\n",
    "        result = digit+ result\n",
    "        d = d // k\n",
    "    return result\n",
    "print(\"Number Base \" + str(base_input) + \" \" + d2k(ord(letter_input), base_input))\n"
   ]
  },
  {
   "cell_type": "code",
   "execution_count": 12,
   "metadata": {},
   "outputs": [
    {
     "name": "stdout",
     "output_type": "stream",
     "text": [
      "Please input a single letter:\n",
      "a\n",
      "97\n",
      "89\n",
      "81\n",
      "76\n",
      "6D\n",
      "1. Enter a letter\n",
      "2. Convert to Denary\n",
      "3. Convert to Base 11\n",
      "4. Convert to Base 12\n",
      "5. Convert to Base 13\n",
      "6. Convert to Base 14\n",
      "7. End\n",
      "Whats your choice?\n",
      "2\n",
      "97\n"
     ]
    }
   ],
   "source": [
    "# Task 1.3\n",
    "# letter_input = input(\"Please input a single letter:\\n\")\n",
    "# print(ord(letter_input))\n",
    "# print(d2k(ord(letter_input), 11))\n",
    "# print(d2k(ord(letter_input), 12))\n",
    "# print(d2k(ord(letter_input), 13))\n",
    "# print(d2k(ord(letter_input), 14))\n",
    "print(\"1. Enter a letter\")\n",
    "print(\"2. Convert to Denary\")\n",
    "print(\"3. Convert to Base 11\")\n",
    "print(\"4. Convert to Base 12\")\n",
    "print(\"5. Convert to Base 13\")\n",
    "print(\"6. Convert to Base 14\")\n",
    "print(\"7. End\")\n",
    "choice = input(\"Whats your choice?\\n\")\n",
    "if choice==\"1\":\n",
    "    letter_input = input(\"Please input a single letter:\\n\")\n",
    "elif choice==\"2\":\n",
    "    print(ord(letter_input))\n",
    "elif choice==\"3\":\n",
    "    print(d2k(ord(letter_input), 11))\n",
    "elif choice==\"4\":\n",
    "    print(d2k(ord(letter_input), 12))\n",
    "elif choice==\"5\":\n",
    "    print(d2k(ord(letter_input), 13))\n",
    "elif choice==\"6\":\n",
    "    print(d2k(ord(letter_input), 14))"
   ]
  },
  {
   "cell_type": "code",
   "execution_count": null,
   "metadata": {},
   "outputs": [],
   "source": []
  }
 ],
 "metadata": {
  "kernelspec": {
   "display_name": "Python 3",
   "language": "python",
   "name": "python3"
  },
  "language_info": {
   "codemirror_mode": {
    "name": "ipython",
    "version": 3
   },
   "file_extension": ".py",
   "mimetype": "text/x-python",
   "name": "python",
   "nbconvert_exporter": "python",
   "pygments_lexer": "ipython3",
   "version": "3.7.1"
  }
 },
 "nbformat": 4,
 "nbformat_minor": 2
}
