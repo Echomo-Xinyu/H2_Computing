{
 "cells": [
  {
   "cell_type": "code",
   "execution_count": 3,
   "metadata": {},
   "outputs": [
    {
     "name": "stdout",
     "output_type": "stream",
     "text": [
      "0\n"
     ]
    }
   ],
   "source": [
    "b = [1, 2]\n",
    "print(b.index(1))"
   ]
  },
  {
   "cell_type": "code",
   "execution_count": 44,
   "metadata": {},
   "outputs": [
    {
     "name": "stdout",
     "output_type": "stream",
     "text": [
      "Data      ;LeftPointer    ;RightPointer   \n",
      "Dave      ;              4;              1\n",
      "Fred      ;              2;              3\n",
      "Ed        ;             -1;             -1\n",
      "Greg      ;             -1;             -1\n",
      "Bob       ;              6;              5\n",
      "Cid       ;             -1;             -1\n",
      "Ali       ;             -1;             -1\n",
      "Ali\n",
      "Bob\n",
      "Cid\n",
      "Dave\n",
      "Ed\n",
      "Fred\n",
      "Greg\n"
     ]
    }
   ],
   "source": [
    "# Q3\n",
    "class Node():\n",
    "    def __init__(self, data, leftPtr=-1, rightPtr=-1):\n",
    "        self.data = data\n",
    "        self.leftPtr = leftPtr\n",
    "        self.rightPtr = rightPtr\n",
    "\n",
    "    def setData(self, data):\n",
    "        self.data = data\n",
    "\n",
    "    def setLeftPtr(self, pointer):\n",
    "        self.leftPtr = pointer\n",
    "\n",
    "    def setRightPtr(self, pointer):\n",
    "        self.rightPtr = pointer\n",
    "\n",
    "    def getData(self):\n",
    "        return self.data\n",
    "\n",
    "    def getLeftPtr(self):\n",
    "        return self.leftPtr\n",
    "\n",
    "    def getRightPtr(self):\n",
    "        return self.rightPtr\n",
    "\n",
    "\n",
    "class ADT():\n",
    "    def __init__(self):\n",
    "        self.tree = []\n",
    "        self.root = -1\n",
    "\n",
    "    def add(self, data):\n",
    "        self.tree.append(Node(data))\n",
    "        if self.root == -1:\n",
    "            self.root = 0\n",
    "            return\n",
    "        # locate the position to insert the node and its parent node\n",
    "        last_node_left = True\n",
    "        current = self.root\n",
    "        previous_index = self.root\n",
    "        while current != -1:\n",
    "            previous_index = current\n",
    "            if self.tree[current].getData() > data:\n",
    "                current = self.tree[current].getLeftPtr()\n",
    "                last_node_comes_left = True\n",
    "            else:\n",
    "                current = self.tree[current].getRightPtr()\n",
    "                last_node_comes_left = False\n",
    "        # insert to left or right based on link with its parent node\n",
    "        if last_node_comes_left:\n",
    "            self.tree[previous_index].setLeftPtr(len(self.tree)-1)\n",
    "        else:\n",
    "            self.tree[previous_index].setRightPtr(len(self.tree)-1)\n",
    "\n",
    "    def print(self):\n",
    "        n = len(self.tree)\n",
    "        print(\"{0:10};{1:15};{2:15}\".format(\"Data\", \"LeftPointer\",\n",
    "                                            \"RightPointer\"))\n",
    "        for i in range(n):\n",
    "            print(\"{0:10};{1:15};{2:15}\".format(\n",
    "                self.tree[i].getData(), self.tree[i].getLeftPtr()\n",
    "                if self.tree[i].getLeftPtr()!=-1 else \"             -1\",\n",
    "                self.tree[i].getRightPtr()\n",
    "                if self.tree[i].getRightPtr()!=-1 else \"             -1\"))\n",
    "\n",
    "    def _iOTr(self, current):\n",
    "        if current != -1:\n",
    "            self._iOTr(self.tree[current].getLeftPtr())\n",
    "            print(self.tree[current].getData())\n",
    "            self._iOTr(self.tree[current].getRightPtr())\n",
    "\n",
    "    def inOrderTraversal(self):\n",
    "        if self.root == -1:\n",
    "            print(\"Empty\")\n",
    "            return\n",
    "        self._iOTr(self.root)\n",
    "\n",
    "\n",
    "a = ADT()\n",
    "a.add(\"Dave\")\n",
    "a.add(\"Fred\")\n",
    "a.add(\"Ed\")\n",
    "a.add(\"Greg\")\n",
    "a.add(\"Bob\")\n",
    "a.add(\"Cid\")\n",
    "a.add(\"Ali\")\n",
    "a.print()\n",
    "a.inOrderTraversal()"
   ]
  },
  {
   "cell_type": "code",
   "execution_count": null,
   "metadata": {},
   "outputs": [],
   "source": []
  }
 ],
 "metadata": {
  "kernelspec": {
   "display_name": "Python 3",
   "language": "python",
   "name": "python3"
  },
  "language_info": {
   "codemirror_mode": {
    "name": "ipython",
    "version": 3
   },
   "file_extension": ".py",
   "mimetype": "text/x-python",
   "name": "python",
   "nbconvert_exporter": "python",
   "pygments_lexer": "ipython3",
   "version": "3.7.1"
  }
 },
 "nbformat": 4,
 "nbformat_minor": 2
}
