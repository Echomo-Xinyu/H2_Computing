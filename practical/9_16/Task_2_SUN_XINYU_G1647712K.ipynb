{
 "cells": [
  {
   "cell_type": "code",
   "execution_count": 1,
   "metadata": {},
   "outputs": [],
   "source": [
    "# Task 2_1\n",
    "def f(x):\n",
    "    if len(x)==0:\n",
    "        return 0\n",
    "    if x[0] % 2 == 0:\n",
    "        return x[0] + f(x[1:])\n",
    "    else:\n",
    "        return f(x[1:])"
   ]
  }
 ],
 "metadata": {
  "kernelspec": {
   "display_name": "Python 3",
   "language": "python",
   "name": "python3"
  },
  "language_info": {
   "codemirror_mode": {
    "name": "ipython",
    "version": 3
   },
   "file_extension": ".py",
   "mimetype": "text/x-python",
   "name": "python",
   "nbconvert_exporter": "python",
   "pygments_lexer": "ipython3",
   "version": "3.7.1"
  }
 },
 "nbformat": 4,
 "nbformat_minor": 2
}
