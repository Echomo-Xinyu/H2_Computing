{
 "cells": [
  {
   "cell_type": "code",
   "execution_count": 1,
   "metadata": {},
   "outputs": [
    {
     "name": "stdout",
     "output_type": "stream",
     "text": [
      "TATCG\n"
     ]
    }
   ],
   "source": [
    "# Task 1_1\n",
    "def correspond(s):\n",
    "    result = \"\"\n",
    "    mapping = {\"A\":\"T\", \"T\":\"A\", \"C\":\"G\", \"G\":\"C\"}\n",
    "    length = len(s)\n",
    "    for i in range(length):\n",
    "        result += mapping[s[i]]\n",
    "    return result\n",
    "# stri = \"ATAGC\"\n",
    "# print(correspond(stri))"
   ]
  },
  {
   "cell_type": "code",
   "execution_count": 2,
   "metadata": {},
   "outputs": [],
   "source": [
    "# Task 1_2\n",
    "def convert3(seq):\n",
    "    if seq[0]==\"G\":\n",
    "        if seq[1] == \"A\":\n",
    "            if seq[2]==\"T\" or seq[2]==\"C\":\n",
    "                return \"Aspartic acid\"\n",
    "            else:\n",
    "                return \"Gultamic acid\"\n",
    "        elif seq[1]==\"T\":\n",
    "            return \"Valine\"\n",
    "        elif seq[1]==\"C\":\n",
    "            return \"Alanine\"\n",
    "        return \"Glycine\"\n",
    "    return \"Other\"\n"
   ]
  },
  {
   "cell_type": "code",
   "execution_count": 8,
   "metadata": {},
   "outputs": [],
   "source": [
    "# Task 1_3\n",
    "def count_amino(s, amino):\n",
    "    L = [\"TTA\", \"TTG\", \"CTT\", \"CTC\", \"CTA\", \"CTG\"]\n",
    "    S = [\"TCT\", \"TCC\", \"TCA\", \"TCG\", \"AGT\", \"AGC\"]\n",
    "    A = [\"CGT\", \"CGC\", \"CGA\", \"CGG\", \"AGA\", \"AGG\"]\n",
    "    count = 0\n",
    "    for i in range(0, len(s), 3):\n",
    "#         print(len(s))\n",
    "#         print(i)\n",
    "        substring = s[i:i+3]\n",
    "        print(substring)\n",
    "        if amino==\"Leucine\":\n",
    "            if substring in L:\n",
    "                count += 1\n",
    "        elif amino==\"Serine\":\n",
    "            if substing in S:\n",
    "                count += 1\n",
    "        elif amino==\"Arginine\":\n",
    "            if substring in A:\n",
    "                count += 1\n",
    "    return count\n",
    "# print(count_amino(\"TTATTGCTT\", 'Leucine'))"
   ]
  },
  {
   "cell_type": "code",
   "execution_count": 10,
   "metadata": {},
   "outputs": [
    {
     "name": "stdout",
     "output_type": "stream",
     "text": [
      "A\n",
      "GT\n",
      "AGT\n"
     ]
    }
   ],
   "source": [
    "# Task 1_4\n",
    "def sort_by_length(lis):\n",
    "    length = len(lis)\n",
    "    for i in range(length):\n",
    "        for j in range(i, 0, -1):\n",
    "            if len(lis[j]) < len(lis[j-1]):\n",
    "                lis[j], lis[j-1] = lis[j-1], lis[j]\n",
    "    return lis\n",
    "\n",
    "# lis = [\"AGT\", \"GT\", \"A\"]\n",
    "# lss = sort_by_length(lis)\n",
    "# for i in range(3):\n",
    "#     print(lss[i])"
   ]
  },
  {
   "cell_type": "code",
   "execution_count": null,
   "metadata": {},
   "outputs": [],
   "source": []
  }
 ],
 "metadata": {
  "kernelspec": {
   "display_name": "Python 3",
   "language": "python",
   "name": "python3"
  },
  "language_info": {
   "codemirror_mode": {
    "name": "ipython",
    "version": 3
   },
   "file_extension": ".py",
   "mimetype": "text/x-python",
   "name": "python",
   "nbconvert_exporter": "python",
   "pygments_lexer": "ipython3",
   "version": "3.7.1"
  }
 },
 "nbformat": 4,
 "nbformat_minor": 2
}
