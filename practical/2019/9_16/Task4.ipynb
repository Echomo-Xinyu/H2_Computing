{
 "cells": [
  {
   "cell_type": "code",
   "execution_count": 37,
   "metadata": {},
   "outputs": [],
   "source": [
    "# Task 4_1\n",
    "class Stack():\n",
    "    def __init__(self, capacity=10):\n",
    "        self.capacity = capacity\n",
    "        self.items = [None for i in range(capacity)]\n",
    "        self.size = 0\n",
    "        self.top = -1\n",
    "    # def size(self):\n",
    "    def show_size(self):\n",
    "        return self.size\n",
    "    def is_empty(self):\n",
    "        return self.size == 0\n",
    "    def push(self, data):\n",
    "        if self.size == self.capacity:\n",
    "#             print an error message\n",
    "            return\n",
    "        self.top += 1\n",
    "        self.items[self.top] = data\n",
    "        self.size += 1\n",
    "    def peek(self):\n",
    "        if self.size == 0:\n",
    "            print(\"Stack is empty\")\n",
    "            return\n",
    "        return self.items[self.top]\n",
    "    def pop(self):\n",
    "        if self.is_empty():\n",
    "            print(\"Stack is empty\")\n",
    "            return None\n",
    "        toPop = self.items[self.top]\n",
    "        self.items[self.top] = None\n",
    "        self.top -= 1\n",
    "        self.size -= 1\n",
    "        return toPop\n",
    "    def clear(self):\n",
    "        for i in range(self.capacity):\n",
    "            self.items[i] = None\n",
    "        self.size = 0\n",
    "        self.top = -1\n",
    "    def print(self):\n",
    "        for i in range(self.capacity):\n",
    "            print(i, self.items[i])\n",
    "            "
   ]
  },
  {
   "cell_type": "code",
   "execution_count": 38,
   "metadata": {},
   "outputs": [
    {
     "name": "stdout",
     "output_type": "stream",
     "text": [
      "0 5\n",
      "1 4\n",
      "2 3\n",
      "3 2\n",
      "4 1\n"
     ]
    }
   ],
   "source": [
    "# Task 4_2\n",
    "def stack_cards(lis):\n",
    "    stack = Stack(len(lis))\n",
    "    for i in range(len(lis)):\n",
    "        stack.push(lis[i])\n",
    "    return stack\n",
    "a = stack_cards([5, 4, 3, 2, 1])\n",
    "a.print()"
   ]
  },
  {
   "cell_type": "code",
   "execution_count": 39,
   "metadata": {},
   "outputs": [
    {
     "name": "stdout",
     "output_type": "stream",
     "text": [
      "0 3\n",
      "1 4\n",
      "2 5\n",
      "3 1\n",
      "4 2\n"
     ]
    }
   ],
   "source": [
    "# Task 4_3\n",
    "def cut(stack, n):\n",
    "    data_s = []\n",
    "    data = []\n",
    "    for i in range(n):\n",
    "        data_s.append(stack.pop())\n",
    "    while not stack.is_empty():\n",
    "        data.append(stack.pop())\n",
    "    data = data + data_s\n",
    "    stack.clear()\n",
    "    for i in range(len(data)):\n",
    "        stack.push(data[i])\n",
    "    return stack\n",
    "b = cut(a, 2)\n",
    "b.print()"
   ]
  },
  {
   "cell_type": "code",
   "execution_count": 41,
   "metadata": {},
   "outputs": [
    {
     "name": "stdout",
     "output_type": "stream",
     "text": [
      "<class 'int'>\n",
      "<class 'int'>\n",
      "<class 'int'>\n",
      "0 4\n",
      "1 5\n",
      "2 1\n",
      "3 2\n",
      "4 3\n"
     ]
    }
   ],
   "source": [
    "# Task 4_4\n",
    "from random import randint\n",
    "def shuffle(stack, k):\n",
    "    for i in range(k):\n",
    "        print(type(stack.size))\n",
    "#         print(type())\n",
    "#         print(randint(0, 10))\n",
    "        random_num = randint(1, stack.show_size()-1)\n",
    "        stack = cut(stack, random_num)\n",
    "    return stack\n",
    "shuffle(b, 3).print()"
   ]
  },
  {
   "cell_type": "code",
   "execution_count": null,
   "metadata": {},
   "outputs": [],
   "source": []
  }
 ],
 "metadata": {
  "kernelspec": {
   "display_name": "Python 3",
   "language": "python",
   "name": "python3"
  },
  "language_info": {
   "codemirror_mode": {
    "name": "ipython",
    "version": 3
   },
   "file_extension": ".py",
   "mimetype": "text/x-python",
   "name": "python",
   "nbconvert_exporter": "python",
   "pygments_lexer": "ipython3",
   "version": "3.7.1"
  }
 },
 "nbformat": 4,
 "nbformat_minor": 2
}
