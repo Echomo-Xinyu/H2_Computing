{
 "cells": [
  {
   "cell_type": "code",
   "execution_count": 6,
   "metadata": {},
   "outputs": [],
   "source": [
    "# Task 3_1\n",
    "def repeats(s):\n",
    "    target = s[0]\n",
    "    count = 1\n",
    "    while True:\n",
    "        if count == len(s):\n",
    "            break\n",
    "        if s[count]==target:\n",
    "            count += 1\n",
    "        else:\n",
    "            break\n",
    "    return count\n",
    "# print(repeats(\"aaabba\"))"
   ]
  },
  {
   "cell_type": "code",
   "execution_count": 8,
   "metadata": {},
   "outputs": [
    {
     "name": "stdout",
     "output_type": "stream",
     "text": [
      "abcd\n",
      "a4\n",
      "a2b2c4\n"
     ]
    }
   ],
   "source": [
    "# Task 3_2\n",
    "def str_short(s):\n",
    "    if len(s) == 0 or len(s)==1:\n",
    "        return s\n",
    "    result = s[0]\n",
    "    count = repeats(s)\n",
    "    if count == 1:\n",
    "        return result + str_short(s[1:])\n",
    "    return result + str(count) + str_short(s[count:])\n",
    "# print(str_short(\"abcd\"))\n",
    "# print(str_short(\"aaaa\"))\n",
    "# print(str_short(\"aabbcccc\"))"
   ]
  },
  {
   "cell_type": "code",
   "execution_count": 16,
   "metadata": {},
   "outputs": [],
   "source": [
    "# task 3_3\n",
    "handle = open(\"input.txt\", \"r\")\n",
    "data = []\n",
    "for line in handle:\n",
    "    data.append(line.strip().split(\",\"))\n",
    "handle.close()\n",
    "\n",
    "handle = open(\"SUN_XINYU.txt\", \"w\")\n",
    "for d in data:\n",
    "    for r in d:\n",
    "        handle.write(str_short(r))\n",
    "    handle.write(\"\\n\")\n",
    "handle.close()"
   ]
  },
  {
   "cell_type": "code",
   "execution_count": null,
   "metadata": {},
   "outputs": [],
   "source": []
  }
 ],
 "metadata": {
  "kernelspec": {
   "display_name": "Python 3",
   "language": "python",
   "name": "python3"
  },
  "language_info": {
   "codemirror_mode": {
    "name": "ipython",
    "version": 3
   },
   "file_extension": ".py",
   "mimetype": "text/x-python",
   "name": "python",
   "nbconvert_exporter": "python",
   "pygments_lexer": "ipython3",
   "version": "3.7.1"
  }
 },
 "nbformat": 4,
 "nbformat_minor": 2
}
